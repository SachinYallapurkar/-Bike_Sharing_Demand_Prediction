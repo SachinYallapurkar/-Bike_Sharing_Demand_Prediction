{
  "nbformat": 4,
  "nbformat_minor": 0,
  "metadata": {
    "colab": {
      "provenance": [],
      "authorship_tag": "ABX9TyP/DFaD+xpS6runAv1aGImv",
      "include_colab_link": true
    },
    "kernelspec": {
      "name": "python3",
      "display_name": "Python 3"
    },
    "language_info": {
      "name": "python"
    }
  },
  "cells": [
    {
      "cell_type": "markdown",
      "metadata": {
        "id": "view-in-github",
        "colab_type": "text"
      },
      "source": [
        "<a href=\"https://colab.research.google.com/github/SachinYallapurkar/-Bike_Sharing_Demand_Prediction/blob/main/Bike_Sharing_Demand_Prediction.ipynb\" target=\"_parent\"><img src=\"https://colab.research.google.com/assets/colab-badge.svg\" alt=\"Open In Colab\"/></a>"
      ]
    },
    {
      "cell_type": "markdown",
      "source": [
        "# <b><u> Project Title : Seoul Bike Sharing Demand Prediction </u></b>"
      ],
      "metadata": {
        "id": "1PT_aLfZf4w4"
      }
    },
    {
      "cell_type": "markdown",
      "source": [
        "\n",
        "## <b> Problem Description </b>\n",
        "\n",
        " Currently Rental bikes are introduced in many urban cities for the enhancement of mobility comfort. It is important to make the rental bike available and accessible to the public at the right time as it reduces waiting time. Eventually, providing the city with a stable supply of rental bikes becomes a major concern. The crucial part is the prediction of bike count required at each hour for the stable supply of rental bikes.\n",
        "\n",
        "Our objective is to find a way to estimate the value prediction of bike count required at each hour for the stable supply of rental bikes using the values in the other columns. If we can do so with the of historical datas, then we should able to estimate bike count required at each hour."
      ],
      "metadata": {
        "id": "t8oQ_fDOgAMX"
      }
    },
    {
      "cell_type": "markdown",
      "source": [
        "## <b> Data Description </b>\n",
        "\n",
        "The dataset contains weather information (Temperature, Humidity, Windspeed, Visibility, Dewpoint, Solar radiation, Snowfall, Rainfall), The number of bikes rented per hour and date information.\n",
        "\n",
        "\n",
        "### <b>Attribute Information: </b>\n",
        "\n",
        "*  Date : year-month-day\n",
        "*  Rented Bike count - Count of bikes rented at each hour\n",
        "*  Hour - Hour of the day\n",
        "*  Temperature-Temperature in Celsius\n",
        "*  Humidity - %\n",
        "*  Windspeed - m/s\n",
        "*  Visibility - 10m\n",
        "*  Dew point temperature - Celsius\n",
        "*  Solar radiation - MJ/m2\n",
        "*  Rainfall - mm\n",
        "*  Snowfall - cm\n",
        "*  Seasons - Winter, Spring, Summer, Autumn\n",
        "*  Holiday - Holiday/No holiday\n",
        "*  Functional Day - NoFunc(Non Functional Hours), Func(Functional hours)"
      ],
      "metadata": {
        "id": "KKibQWuQgFsV"
      }
    },
    {
      "cell_type": "markdown",
      "source": [
        "> All the Lifecycle In A Data Science Projects\n",
        "1. Data Analysis\n",
        "2. Feature Engineering\n",
        "3. Feature Selection\n",
        "4. Model Building\n",
        "5. Model Deployment"
      ],
      "metadata": {
        "id": "wImkQL8NgnDX"
      }
    },
    {
      "cell_type": "markdown",
      "source": [
        "## **Import Libraries and Data** "
      ],
      "metadata": {
        "id": "9uWK22oAgzB-"
      }
    },
    {
      "cell_type": "code",
      "source": [
        "# Import necessary libraries\n",
        "\n",
        "import numpy as np\n",
        "from numpy import math\n",
        "\n",
        "import seaborn as sns\n",
        "import matplotlib.pyplot as plt\n",
        "%matplotlib inline\n",
        "%load_ext google.colab.data_table\n",
        "\n",
        "import pandas as pd\n",
        "pd.pandas.set_option('display.max_columns',None)\n",
        "\n",
        "import warnings\n",
        "warnings.filterwarnings(\"ignore\")\n",
        "\n",
        "from sklearn.preprocessing import MinMaxScaler\n",
        "from sklearn.preprocessing import OneHotEncoder\n",
        "\n",
        "from sklearn.model_selection import train_test_split\n",
        "from sklearn.model_selection import RandomizedSearchCV\n",
        "from sklearn.model_selection import GridSearchCV\n",
        "from sklearn.model_selection import cross_val_score\n",
        "\n",
        "from sklearn.linear_model import LinearRegression\n",
        "from sklearn.linear_model import Ridge\n",
        "from sklearn.linear_model import Lasso\n",
        "\n",
        "from sklearn import metrics\n",
        "from sklearn.metrics import r2_score\n",
        "from sklearn.metrics import mean_squared_error\n",
        "\n",
        "from sklearn.feature_selection import SelectFromModel\n",
        "\n",
        "from sklearn import neighbors\n",
        "from sklearn.svm import SVR\n",
        "from sklearn.tree import DecisionTreeRegressor\n",
        "\n",
        "from sklearn.ensemble import RandomForestRegressor\n",
        "from sklearn.ensemble import ExtraTreesRegressor\n",
        "from sklearn.ensemble import GradientBoostingRegressor\n",
        "\n",
        "import xgboost as xgb\n",
        "from xgboost import plot_importance\n",
        "\n",
        "import lightgbm "
      ],
      "metadata": {
        "id": "4uKhijsrf3bu"
      },
      "execution_count": 1,
      "outputs": []
    },
    {
      "cell_type": "code",
      "source": [],
      "metadata": {
        "id": "ot1Pxrzdf37V"
      },
      "execution_count": null,
      "outputs": []
    },
    {
      "cell_type": "code",
      "source": [],
      "metadata": {
        "id": "G1qOtW0Zf3_h"
      },
      "execution_count": null,
      "outputs": []
    }
  ]
}